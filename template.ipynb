{
 "cells": [
  {
   "cell_type": "code",
   "execution_count": 1,
   "metadata": {},
   "outputs": [
    {
     "name": "stderr",
     "output_type": "stream",
     "text": [
      "/var/folders/hz/hhcwj2sd1pq_fr0ynsft46400000gn/T/ipykernel_4948/714094261.py:6: DtypeWarning: Columns (16) have mixed types. Specify dtype option on import or set low_memory=False.\n",
      "  df = pd.read_csv(\"MarketSales.csv\")\n"
     ]
    }
   ],
   "source": [
    "import pandas as pd\n",
    "import seaborn as sns\n",
    "import matplotlib.pyplot as plt\n",
    "import numpy as np \n",
    "\n",
    "df = pd.read_csv(\"MarketSales.csv\")"
   ]
  },
  {
   "cell_type": "code",
   "execution_count": 2,
   "metadata": {},
   "outputs": [
    {
     "data": {
      "text/plain": [
       "ID                     1\n",
       "ITEMCODE            7167\n",
       "ITEMNAME            7167\n",
       "FICHENO                0\n",
       "DATE_                  1\n",
       "AMOUNT                 1\n",
       "PRICE                  1\n",
       "LINENETTOTAL           1\n",
       "LINENET                1\n",
       "BRANCHNR               1\n",
       "BRANCH                 1\n",
       "SALESMAN               0\n",
       "CITY                   1\n",
       "REGION                 1\n",
       "LATITUDE               1\n",
       "LONGITUDE              1\n",
       "CLIENTCODE         18348\n",
       "CLIENTNAME         18365\n",
       "BRANDCODE          35557\n",
       "BRAND              35557\n",
       "CATEGORY_NAME1      7167\n",
       "CATEGORY_NAME2     27660\n",
       "CATEGORY_NAME3    209459\n",
       "STARTDATE              0\n",
       "ENDDATE                0\n",
       "GENDER             18365\n",
       "dtype: int64"
      ]
     },
     "execution_count": 2,
     "metadata": {},
     "output_type": "execute_result"
    }
   ],
   "source": [
    "df.isnull().sum()"
   ]
  },
  {
   "cell_type": "code",
   "execution_count": 3,
   "metadata": {},
   "outputs": [],
   "source": [
    "df.drop('CATEGORY_NAME3', axis=1, inplace=True)"
   ]
  },
  {
   "cell_type": "code",
   "execution_count": 4,
   "metadata": {},
   "outputs": [],
   "source": [
    "df.dropna(inplace=True)"
   ]
  },
  {
   "cell_type": "code",
   "execution_count": 5,
   "metadata": {},
   "outputs": [
    {
     "data": {
      "text/plain": [
       "ID                0\n",
       "ITEMCODE          0\n",
       "ITEMNAME          0\n",
       "FICHENO           0\n",
       "DATE_             0\n",
       "AMOUNT            0\n",
       "PRICE             0\n",
       "LINENETTOTAL      0\n",
       "LINENET           0\n",
       "BRANCHNR          0\n",
       "BRANCH            0\n",
       "SALESMAN          0\n",
       "CITY              0\n",
       "REGION            0\n",
       "LATITUDE          0\n",
       "LONGITUDE         0\n",
       "CLIENTCODE        0\n",
       "CLIENTNAME        0\n",
       "BRANDCODE         0\n",
       "BRAND             0\n",
       "CATEGORY_NAME1    0\n",
       "CATEGORY_NAME2    0\n",
       "STARTDATE         0\n",
       "ENDDATE           0\n",
       "GENDER            0\n",
       "dtype: int64"
      ]
     },
     "execution_count": 5,
     "metadata": {},
     "output_type": "execute_result"
    }
   ],
   "source": [
    "df.isnull().sum()"
   ]
  }
 ],
 "metadata": {
  "kernelspec": {
   "display_name": "base",
   "language": "python",
   "name": "python3"
  },
  "language_info": {
   "codemirror_mode": {
    "name": "ipython",
    "version": 3
   },
   "file_extension": ".py",
   "mimetype": "text/x-python",
   "name": "python",
   "nbconvert_exporter": "python",
   "pygments_lexer": "ipython3",
   "version": "3.11.5"
  }
 },
 "nbformat": 4,
 "nbformat_minor": 2
}
